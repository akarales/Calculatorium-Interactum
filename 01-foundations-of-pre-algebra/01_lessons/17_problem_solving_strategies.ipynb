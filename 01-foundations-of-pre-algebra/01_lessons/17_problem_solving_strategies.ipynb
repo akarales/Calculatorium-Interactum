{
 "cells": [
  {
   "cell_type": "markdown",
   "id": "472272c7",
   "metadata": {},
   "source": [
    "# 17 Problem Solving Strategies\n",
    "\n",
    "Lesson content goes here."
   ]
  }
 ],
 "metadata": {},
 "nbformat": 4,
 "nbformat_minor": 5
}
