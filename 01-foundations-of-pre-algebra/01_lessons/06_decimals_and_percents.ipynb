{
 "cells": [
  {
   "cell_type": "markdown",
   "id": "bb52047f",
   "metadata": {},
   "source": [
    "# 06 Decimals And Percents\n",
    "\n",
    "Lesson content goes here."
   ]
  }
 ],
 "metadata": {},
 "nbformat": 4,
 "nbformat_minor": 5
}
