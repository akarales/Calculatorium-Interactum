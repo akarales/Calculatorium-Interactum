{
 "cells": [
  {
   "cell_type": "markdown",
   "id": "234f863d",
   "metadata": {},
   "source": [
    "# 12 Ratios And Proportions\n",
    "\n",
    "Lesson content goes here."
   ]
  }
 ],
 "metadata": {},
 "nbformat": 4,
 "nbformat_minor": 5
}
