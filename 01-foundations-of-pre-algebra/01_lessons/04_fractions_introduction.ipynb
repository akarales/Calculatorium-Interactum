{
 "cells": [
  {
   "cell_type": "markdown",
   "id": "bf891f64",
   "metadata": {},
   "source": [
    "# 04 Fractions Introduction\n",
    "\n",
    "Lesson content goes here."
   ]
  }
 ],
 "metadata": {},
 "nbformat": 4,
 "nbformat_minor": 5
}
