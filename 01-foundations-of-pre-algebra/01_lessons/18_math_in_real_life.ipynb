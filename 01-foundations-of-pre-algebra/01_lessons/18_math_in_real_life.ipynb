{
 "cells": [
  {
   "cell_type": "markdown",
   "id": "9848ed22",
   "metadata": {},
   "source": [
    "# 18 Math In Real Life\n",
    "\n",
    "Lesson content goes here."
   ]
  }
 ],
 "metadata": {},
 "nbformat": 4,
 "nbformat_minor": 5
}
