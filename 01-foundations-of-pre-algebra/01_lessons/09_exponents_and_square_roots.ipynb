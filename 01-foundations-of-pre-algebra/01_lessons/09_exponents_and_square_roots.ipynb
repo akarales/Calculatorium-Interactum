{
 "cells": [
  {
   "cell_type": "markdown",
   "id": "2a6b11a1",
   "metadata": {},
   "source": [
    "# 09 Exponents And Square Roots\n",
    "\n",
    "Lesson content goes here."
   ]
  }
 ],
 "metadata": {},
 "nbformat": 4,
 "nbformat_minor": 5
}
