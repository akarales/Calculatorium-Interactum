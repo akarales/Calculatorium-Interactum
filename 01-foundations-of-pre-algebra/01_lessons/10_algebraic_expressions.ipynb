{
 "cells": [
  {
   "cell_type": "markdown",
   "id": "f7001170",
   "metadata": {},
   "source": [
    "# 10 Algebraic Expressions\n",
    "\n",
    "Lesson content goes here."
   ]
  }
 ],
 "metadata": {},
 "nbformat": 4,
 "nbformat_minor": 5
}
