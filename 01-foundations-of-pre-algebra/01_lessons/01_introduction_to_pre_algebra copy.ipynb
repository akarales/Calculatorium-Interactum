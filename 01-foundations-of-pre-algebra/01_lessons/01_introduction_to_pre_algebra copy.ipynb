{
 "cells": [
  {
   "cell_type": "markdown",
   "metadata": {},
   "source": [
    "# Introduction to Pre-Algebra\n",
    "\n",
    "Welcome to the first lesson in **Calculatorium Interactum: Foundations of Pre-Algebra**! In this lesson, we'll explore what pre-algebra is, why it's important, and some of the key concepts we'll be learning throughout this course. Let's get started on this exciting journey into the world of mathematics!"
   ]
  },
  {
   "cell_type": "markdown",
   "metadata": {},
   "source": [
    "## What is Pre-Algebra?\n",
    "\n",
    "Pre-algebra is the bridge between basic arithmetic and algebra. It introduces fundamental concepts that prepare you for more advanced mathematical thinking. In pre-algebra, we start to use symbols to represent unknown quantities and learn how to manipulate these symbols using the rules of arithmetic.\n",
    "\n",
    "Key areas we'll explore in pre-algebra include:\n",
    "1. Properties of numbers\n",
    "2. Order of operations\n",
    "3. Negative numbers\n",
    "4. Fractions, decimals, and percentages\n",
    "5. Basic equation solving\n",
    "6. Introduction to functions and graphs"
   ]
  },
  {
   "cell_type": "markdown",
   "metadata": {},
   "source": [
    "## Why is Pre-Algebra Important?\n",
    "\n",
    "Pre-algebra is crucial because it lays the foundation for all future mathematical studies. It helps develop critical thinking and problem-solving skills that are valuable not just in mathematics, but in many areas of life and various career paths.\n",
    "\n",
    "Some specific reasons why pre-algebra is important:\n",
    "1. It introduces abstract thinking in mathematics.\n",
    "2. It prepares you for algebra and more advanced math courses.\n",
    "3. It improves logical reasoning skills.\n",
    "4. It has many real-world applications, from basic budgeting to more complex scientific and engineering problems."
   ]
  },
  {
   "cell_type": "markdown",
   "metadata": {},
   "source": [
    "## Interactive Examples and Exercises\n",
    "\n",
    "Now, let's put these concepts into practice with some interactive exercises. Try your best to solve them, and remember, making mistakes is part of the learning process!"
   ]
  },
  {
   "cell_type": "code",
   "execution_count": 1,
   "metadata": {},
   "outputs": [],
   "source": [
    "import ipywidgets as widgets\n",
    "from IPython.display import display, HTML, clear_output"
   ]
  },
  {
   "cell_type": "markdown",
   "metadata": {},
   "source": [
    "### 1. Understanding Variables\n",
    "\n",
    "Let's start with a simple question about variables. Given the equation **2x + 3**, where **x = 5**, what is the value of the expression?"
   ]
  },
  {
   "cell_type": "code",
   "execution_count": 2,
   "metadata": {},
   "outputs": [
    {
     "data": {
      "text/html": [
       "<h3>If x = 5, what is 2x + 3?</h3>"
      ],
      "text/plain": [
       "<IPython.core.display.HTML object>"
      ]
     },
     "metadata": {},
     "output_type": "display_data"
    },
    {
     "data": {
      "application/vnd.jupyter.widget-view+json": {
       "model_id": "4e233f2d160a487dbcac8607a537567b",
       "version_major": 2,
       "version_minor": 0
      },
      "text/plain": [
       "IntText(value=13, description='Your answer:')"
      ]
     },
     "metadata": {},
     "output_type": "display_data"
    },
    {
     "data": {
      "application/vnd.jupyter.widget-view+json": {
       "model_id": "485fb2bdc3074d8b9fb7d08dc5eafff6",
       "version_major": 2,
       "version_minor": 0
      },
      "text/plain": [
       "Button(description='Check', style=ButtonStyle())"
      ]
     },
     "metadata": {},
     "output_type": "display_data"
    },
    {
     "data": {
      "application/vnd.jupyter.widget-view+json": {
       "model_id": "bccd0c8643b64b69a9535641132501b8",
       "version_major": 2,
       "version_minor": 0
      },
      "text/plain": [
       "HTML(value=\"<span style='color: green;'>Correct! When x = 5, 2x + 3 = 13.</span>\")"
      ]
     },
     "metadata": {},
     "output_type": "display_data"
    }
   ],
   "source": [
    "def check_variable_understanding(b):\n",
    "    user_answer = variable_input.value\n",
    "    correct_answer = 2 * x_value + 3\n",
    "    if user_answer == correct_answer:\n",
    "        result_output.value = f\"<span style='color: green;'>Correct! When x = {x_value}, 2x + 3 = {correct_answer}.</span>\"\n",
    "    else:\n",
    "        result_output.value = f\"<span style='color: red;'>Not quite. When x = {x_value}, 2x + 3 = {correct_answer}. Let's try again!</span>\"\n",
    "    clear_output(wait=True)\n",
    "    display(HTML(f\"<h3>If x = {x_value}, what is 2x + 3?</h3>\"))\n",
    "    display(variable_input, check_button, result_output)\n",
    "\n",
    "x_value = 5\n",
    "variable_input = widgets.IntText(description=\"Your answer:\")\n",
    "check_button = widgets.Button(description=\"Check\")\n",
    "check_button.on_click(check_variable_understanding)\n",
    "result_output = widgets.HTML()\n",
    "\n",
    "display(HTML(\"<h3>If x = 5, what is 2x + 3?</h3>\"))\n",
    "display(variable_input, check_button, result_output)"
   ]
  },
  {
   "cell_type": "markdown",
   "metadata": {},
   "source": [
    "### 2. Order of Operations\n",
    "\n",
    "The order of operations is a fundamental concept in mathematics. Let's test your understanding with this problem: What is the result of **2 + 3 * 4**?"
   ]
  },
  {
   "cell_type": "code",
   "execution_count": 3,
   "metadata": {},
   "outputs": [
    {
     "data": {
      "text/html": [
       "<h3>What is the result of 2 + 3 * 4?</h3>"
      ],
      "text/plain": [
       "<IPython.core.display.HTML object>"
      ]
     },
     "metadata": {},
     "output_type": "display_data"
    },
    {
     "data": {
      "application/vnd.jupyter.widget-view+json": {
       "model_id": "d62e498bfea047b5a357dfa4ce014658",
       "version_major": 2,
       "version_minor": 0
      },
      "text/plain": [
       "IntText(value=14, description='Your answer:')"
      ]
     },
     "metadata": {},
     "output_type": "display_data"
    },
    {
     "data": {
      "application/vnd.jupyter.widget-view+json": {
       "model_id": "6865212eae6f43b8829516d3e4b7f778",
       "version_major": 2,
       "version_minor": 0
      },
      "text/plain": [
       "Button(description='Check', style=ButtonStyle())"
      ]
     },
     "metadata": {},
     "output_type": "display_data"
    },
    {
     "data": {
      "application/vnd.jupyter.widget-view+json": {
       "model_id": "f7dff4fbfac446ed86688dc8d1b0f72b",
       "version_major": 2,
       "version_minor": 0
      },
      "text/plain": [
       "HTML(value=\"<span style='color: green;'>Correct! 2 + 3 * 4 = 14.</span>\")"
      ]
     },
     "metadata": {},
     "output_type": "display_data"
    }
   ],
   "source": [
    "def check_order_of_operations(b):\n",
    "    user_answer = operation_input.value\n",
    "    correct_answer = 2 + 3 * 4\n",
    "    if user_answer == correct_answer:\n",
    "        operation_output.value = f\"<span style='color: green;'>Correct! 2 + 3 * 4 = {correct_answer}.</span>\"\n",
    "    else:\n",
    "        operation_output.value = f\"<span style='color: red;'>Not quite. Remember the order of operations: 2 + 3 * 4 = 2 + 12 = {correct_answer}. Let's try again!</span>\"\n",
    "    clear_output(wait=True)\n",
    "    display(HTML(\"<h3>What is the result of 2 + 3 * 4?</h3>\"))\n",
    "    display(operation_input, operation_check_button, operation_output)\n",
    "\n",
    "operation_input = widgets.IntText(description=\"Your answer:\")\n",
    "operation_check_button = widgets.Button(description=\"Check\")\n",
    "operation_check_button.on_click(check_order_of_operations)\n",
    "operation_output = widgets.HTML()\n",
    "\n",
    "display(HTML(\"<h3>What is the result of 2 + 3 * 4?</h3>\"))\n",
    "display(operation_input, operation_check_button, operation_output)"
   ]
  },
  {
   "cell_type": "markdown",
   "metadata": {},
   "source": [
    "### 3. Fraction to Decimal Conversion\n",
    "\n",
    "Fractions and decimals are different ways of representing numbers. Convert the fraction **3/4** to a decimal."
   ]
  },
  {
   "cell_type": "code",
   "execution_count": null,
   "metadata": {},
   "outputs": [
    {
     "data": {
      "text/html": [
       "<h3>Convert the fraction 3/4 to a decimal:</h3>"
      ],
      "text/plain": [
       "<IPython.core.display.HTML object>"
      ]
     },
     "metadata": {},
     "output_type": "display_data"
    },
    {
     "data": {
      "application/vnd.jupyter.widget-view+json": {
       "model_id": "379bf666a29a46aea228db6557a0211f",
       "version_major": 2,
       "version_minor": 0
      },
      "text/plain": [
       "FloatText(value=0.75, description='Your answer:')"
      ]
     },
     "metadata": {},
     "output_type": "display_data"
    },
    {
     "data": {
      "application/vnd.jupyter.widget-view+json": {
       "model_id": "91499de1d3c7459bba3bc634a263d5c9",
       "version_major": 2,
       "version_minor": 0
      },
      "text/plain": [
       "Button(description='Check', style=ButtonStyle())"
      ]
     },
     "metadata": {},
     "output_type": "display_data"
    },
    {
     "data": {
      "application/vnd.jupyter.widget-view+json": {
       "model_id": "013240e72e814e0a81eb4bd091627167",
       "version_major": 2,
       "version_minor": 0
      },
      "text/plain": [
       "HTML(value=\"<span style='color: green;'>Correct! 3/4 as a decimal is 0.75.</span>\")"
      ]
     },
     "metadata": {},
     "output_type": "display_data"
    }
   ],
   "source": [
    "def check_fraction_conversion(b):\n",
    "    user_answer = fraction_input.value\n",
    "    correct_answer = round(3/4, 2)\n",
    "    if abs(user_answer - correct_answer) < 0.001:  # Allow for small rounding errors\n",
    "        fraction_output.value = f\"<span style='color: green;'>Correct! 3/4 as a decimal is {correct_answer}.</span>\"\n",
    "    else:\n",
    "        fraction_output.value = f\"<span style='color: red;'>Not quite. 3/4 as a decimal is {correct_answer}. Let's try again!</span>\"\n",
    "    clear_output(wait=True)\n",
    "    display(HTML(\"<h3>Convert the fraction 3/4 to a decimal:</h3>\"))\n",
    "    display(fraction_input, fraction_check_button, fraction_output)\n",
    "\n",
    "fraction_input = widgets.FloatText(description=\"Your answer:\")\n",
    "fraction_check_button = widgets.Button(description=\"Check\")\n",
    "fraction_check_button.on_click(check_fraction_conversion)\n",
    "fraction_output = widgets.HTML()\n",
    "\n",
    "display(HTML(\"<h3>Convert the fraction 3/4 to a decimal:</h3>\"))\n",
    "display(fraction_input, fraction_check_button, fraction_output)"
   ]
  },
  {
   "cell_type": "markdown",
   "metadata": {},
   "source": [
    "## Conclusion\n",
    "\n",
    "In this introduction to pre-algebra, we've discussed what pre-algebra is, why it's important, and practiced some fundamental concepts including variables, order of operations, and fraction-to-decimal conversion.\n",
    "\n",
    "As we progress through this course, we'll delve deeper into these concepts and build a strong foundation for your future mathematical journey. Remember, mathematics is a skill that improves with practice, so don't hesitate to revisit these exercises and explore further!\n",
    "\n",
    "In our next lesson, we'll explore the properties of numbers in more detail. See you then!"
   ]
  }
 ],
 "metadata": {
  "kernelspec": {
   "display_name": "Python 3",
   "language": "python",
   "name": "python3"
  },
  "language_info": {
   "codemirror_mode": {
    "name": "ipython",
    "version": 3
   },
   "file_extension": ".py",
   "mimetype": "text/x-python",
   "name": "python",
   "nbconvert_exporter": "python",
   "pygments_lexer": "ipython3",
   "version": "3.11.7"
  }
 },
 "nbformat": 4,
 "nbformat_minor": 4
}
