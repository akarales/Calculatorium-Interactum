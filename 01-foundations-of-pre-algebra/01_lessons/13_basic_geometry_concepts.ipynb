{
 "cells": [
  {
   "cell_type": "markdown",
   "id": "4468efdc",
   "metadata": {},
   "source": [
    "# 13 Basic Geometry Concepts\n",
    "\n",
    "Lesson content goes here."
   ]
  }
 ],
 "metadata": {},
 "nbformat": 4,
 "nbformat_minor": 5
}
