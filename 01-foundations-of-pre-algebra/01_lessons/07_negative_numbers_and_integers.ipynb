{
 "cells": [
  {
   "cell_type": "markdown",
   "id": "5215ef33",
   "metadata": {},
   "source": [
    "# 07 Negative Numbers And Integers\n",
    "\n",
    "Lesson content goes here."
   ]
  }
 ],
 "metadata": {},
 "nbformat": 4,
 "nbformat_minor": 5
}
